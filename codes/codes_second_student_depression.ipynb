{
 "cells": [
  {
   "cell_type": "markdown",
   "id": "46ae4448",
   "metadata": {},
   "source": [
    "for second_student_depression_set.csv\n",
    "1) Histogram of CGPA:"
   ]
  },
  {
   "cell_type": "code",
   "execution_count": null,
   "id": "e8c36328",
   "metadata": {
    "vscode": {
     "languageId": "plaintext"
    }
   },
   "outputs": [],
   "source": [
    "import pandas as pd\n",
    "import matplotlib.pyplot as plt\n",
    "\n",
    "# Load data\n",
    "df = pd.read_csv('second_Student_Depression_Dataset.csv')\n",
    "\n",
    "# Plot histogram\n",
    "plt.figure()\n",
    "plt.hist(df['CGPA'].dropna(), bins=20)\n",
    "plt.xlabel('CGPA')\n",
    "plt.ylabel('Frequency')\n",
    "plt.title('Histogram of CGPA')\n",
    "plt.tight_layout()\n",
    "plt.show()"
   ]
  },
  {
   "cell_type": "markdown",
   "id": "3ecf0c18",
   "metadata": {},
   "source": [
    "for second_student_depression_set.csv\n",
    "\n",
    "2) Sleep Duration Distribution:"
   ]
  },
  {
   "cell_type": "code",
   "execution_count": null,
   "id": "cb0117cc",
   "metadata": {
    "vscode": {
     "languageId": "plaintext"
    }
   },
   "outputs": [],
   "source": [
    "import pandas as pd\n",
    "import matplotlib.pyplot as plt\n",
    "\n",
    "# Load data\n",
    "df = pd.read_csv('second_Student_Depression_Dataset.csv')\n",
    "\n",
    "# Count categories\n",
    "sleep_counts = df['Sleep Duration'].value_counts()\n",
    "\n",
    "# Plot bar chart\n",
    "plt.figure()\n",
    "plt.bar(sleep_counts.index, sleep_counts.values)\n",
    "plt.xlabel('Sleep Duration')\n",
    "plt.ylabel('Count')\n",
    "plt.title('Sleep Duration Distribution')\n",
    "plt.xticks(rotation=15)\n",
    "plt.tight_layout()\n",
    "plt.show()"
   ]
  },
  {
   "cell_type": "markdown",
   "id": "2203f1f6",
   "metadata": {},
   "source": [
    "for second_student_depression_set.csv\n",
    "\n",
    "3) Correlation Matrix of Key Variables:"
   ]
  },
  {
   "cell_type": "code",
   "execution_count": null,
   "id": "6ba45315",
   "metadata": {
    "vscode": {
     "languageId": "plaintext"
    }
   },
   "outputs": [],
   "source": [
    "import pandas as pd\n",
    "import numpy as np\n",
    "import matplotlib.pyplot as plt\n",
    "\n",
    "# Load data\n",
    "df = pd.read_csv('second_Student_Depression_Dataset.csv')\n",
    "\n",
    "# Select numeric columns\n",
    "num_cols = [\n",
    "    'Age',\n",
    "    'Academic Pressure',\n",
    "    'Work Pressure',\n",
    "    'CGPA',\n",
    "    'Study Satisfaction',\n",
    "    'Job Satisfaction',\n",
    "    'Work/Study Hours',\n",
    "    'Financial Stress',\n",
    "    'Depression'\n",
    "]\n",
    "\n",
    "# Compute correlation matrix\n",
    "corr = df[num_cols].corr()\n",
    "\n",
    "# Plot heatmap\n",
    "plt.figure(figsize=(8,6))\n",
    "plt.imshow(corr, aspect='auto', cmap='viridis', vmin=-1, vmax=1)\n",
    "plt.colorbar(label='Pearson r')\n",
    "plt.xticks(range(len(num_cols)), num_cols, rotation=90)\n",
    "plt.yticks(range(len(num_cols)), num_cols)\n",
    "plt.title('Correlation Matrix of Key Numeric Features')\n",
    "plt.tight_layout()\n",
    "plt.show()"
   ]
  },
  {
   "cell_type": "markdown",
   "id": "6eada5c4",
   "metadata": {},
   "source": [
    "for second_student_depression_set.csv\n",
    "\n",
    "4) Depression Rate by CGPA Bin: "
   ]
  },
  {
   "cell_type": "code",
   "execution_count": null,
   "id": "457f5a4c",
   "metadata": {
    "vscode": {
     "languageId": "plaintext"
    }
   },
   "outputs": [],
   "source": [
    "import pandas as pd\n",
    "import numpy as np\n",
    "import matplotlib.pyplot as plt\n",
    "\n",
    "# Load & clean\n",
    "df2 = pd.read_csv('second_Student_Depression_Dataset.csv')\n",
    "df2['CGPA']       = pd.to_numeric(df2['CGPA'], errors='coerce')\n",
    "df2['Depression'] = pd.to_numeric(df2['Depression'], errors='coerce')\n",
    "df2 = df2.dropna(subset=['CGPA','Depression'])\n",
    "\n",
    "# Create CGPA bins\n",
    "n_bins = 10\n",
    "df2['cgpa_bin'] = pd.cut(df2['CGPA'], bins=n_bins)\n",
    "\n",
    "# Compute depressed fraction per bin\n",
    "agg = df2.groupby('cgpa_bin')['Depression'].agg(['mean','count','std']).reset_index()\n",
    "agg['mid'] = agg['cgpa_bin'].apply(lambda iv: iv.left + (iv.right-iv.left)/2)\n",
    "# Standard error\n",
    "agg['se'] = agg['std']/np.sqrt(agg['count'])\n",
    "\n",
    "# Plot\n",
    "plt.figure(figsize=(6,4))\n",
    "plt.errorbar(agg['mid'], agg['mean'], yerr=agg['se'], fmt='-o', capsize=4)\n",
    "plt.ylim(0,1)\n",
    "plt.xlabel('CGPA (bin midpoint)')\n",
    "plt.ylabel('Proportion Depressed')\n",
    "plt.title('Depression Rate by CGPA Bin')\n",
    "plt.tight_layout()\n",
    "plt.show()"
   ]
  },
  {
   "cell_type": "markdown",
   "id": "fd01c86b",
   "metadata": {},
   "source": [
    "for second_student_depression_set.csv\n",
    "\n",
    "5) CGPA Distribution by Depression Status:"
   ]
  },
  {
   "cell_type": "code",
   "execution_count": null,
   "id": "c977b6ad",
   "metadata": {
    "vscode": {
     "languageId": "plaintext"
    }
   },
   "outputs": [],
   "source": [
    "import pandas as pd\n",
    "import matplotlib.pyplot as plt\n",
    "\n",
    "# Load & clean\n",
    "df2 = pd.read_csv('second_Student_Depression_Dataset.csv')\n",
    "df2['CGPA']       = pd.to_numeric(df2['CGPA'], errors='coerce')\n",
    "df2['Depression'] = pd.to_numeric(df2['Depression'], errors='coerce')\n",
    "df2 = df2.dropna(subset=['CGPA','Depression'])\n",
    "\n",
    "# Prepare groups\n",
    "group0 = df2.loc[df2['Depression']==0, 'CGPA']\n",
    "group1 = df2.loc[df2['Depression']==1, 'CGPA']\n",
    "\n",
    "# Plot\n",
    "plt.figure(figsize=(6,4))\n",
    "plt.boxplot([group0, group1], labels=['Not Depressed','Depressed'], showfliers=False)\n",
    "plt.ylabel('CGPA')\n",
    "plt.title('CGPA Distribution by Depression Status')\n",
    "plt.tight_layout()\n",
    "plt.show()"
   ]
  }
 ],
 "metadata": {
  "kernelspec": {
   "display_name": "",
   "name": ""
  },
  "language_info": {
   "name": ""
  }
 },
 "nbformat": 4,
 "nbformat_minor": 5
}
