{
 "cells": [
  {
   "cell_type": "markdown",
   "id": "f52f59d4",
   "metadata": {},
   "source": [
    "4.1.a\n",
    "\n",
    "for second_student_depression_set.csv  \n",
    "1) Compare Mean CGPA: Depressed vs. Not Depressed"
   ]
  },
  {
   "cell_type": "code",
   "execution_count": null,
   "id": "aaa4f63f",
   "metadata": {
    "vscode": {
     "languageId": "plaintext"
    }
   },
   "outputs": [],
   "source": [
    "## Compare Mean CGPA: Depressed vs. Not‑Depressed\n",
    "\n",
    "import pandas as pd\n",
    "from scipy.stats import ttest_ind\n",
    "\n",
    "# Load & clean\n",
    "df = pd.read_csv('second_Student_Depression_Dataset.csv')\n",
    "df['CGPA']       = pd.to_numeric(df['CGPA'], errors='coerce')\n",
    "df['Depression'] = pd.to_numeric(df['Depression'], errors='coerce')\n",
    "df = df.dropna(subset=['CGPA','Depression'])\n",
    "\n",
    "# Split groups\n",
    "cgpa_dep   = df.loc[df['Depression']==1, 'CGPA']\n",
    "cgpa_nondep= df.loc[df['Depression']==0, 'CGPA']\n",
    "\n",
    "t_stat, p_val = ttest_ind(cgpa_dep, cgpa_nondep, equal_var=False)\n",
    "print(f\"T = {t_stat}, p-value = {p_val}\")\n",
    "\n",
    "# Decision:\n",
    "# if p_val < 0.05:\n",
    "#     print(\"Reject H₀: Mean CGPA differs\")\n",
    "# else:\n",
    "#     print(\"Fail to reject H₀\")"
   ]
  },
  {
   "cell_type": "markdown",
   "id": "fd9bb39c",
   "metadata": {},
   "source": [
    "4.2.a\n",
    "\n",
    "for second_student_depression_set.csv\n",
    "\n",
    "2) Spearman Rank‐Correlation (sleep_ord vs. Depression)"
   ]
  },
  {
   "cell_type": "code",
   "execution_count": null,
   "id": "c41d916a",
   "metadata": {
    "vscode": {
     "languageId": "plaintext"
    }
   },
   "outputs": [],
   "source": [
    "import pandas as pd\n",
    "from scipy.stats import spearmanr\n",
    "\n",
    "# Load & map\n",
    "df = pd.read_csv('second_Student_Depression_Dataset.csv')\n",
    "sleep_map = {\n",
    "    'Less than 5 hours': 1,\n",
    "    '5-6 hours':         2,\n",
    "    '7-8 hours':         3,\n",
    "    'More than 8 hours': 4\n",
    "}\n",
    "df['sleep_ord']  = df['Sleep Duration'].map(sleep_map)\n",
    "df['Depression'] = pd.to_numeric(df['Depression'], errors='coerce')\n",
    "df = df.dropna(subset=['sleep_ord','Depression'])\n",
    "\n",
    "# Spearman test\n",
    "rho, p = spearmanr(df['sleep_ord'], df['Depression'])\n",
    "print(f\"Spearman p = {rho:.3f}, p-value = {p}\")\n",
    "\n",
    "# Decision:\n",
    "# if p < 0.05: print(\"Reject H₀: significant monotonic association\")\n",
    "# else:        print(\"Fail to reject H₀\")"
   ]
  },
  {
   "cell_type": "markdown",
   "id": "bbe1d80c",
   "metadata": {},
   "source": [
    "4.2.b\n",
    "\n",
    "for second_student_depression_set.csv\n",
    "\n",
    "3) Oneway ANOVA: Depression Score Across Sleep Groups"
   ]
  },
  {
   "cell_type": "code",
   "execution_count": null,
   "id": "f1167ebc",
   "metadata": {
    "vscode": {
     "languageId": "plaintext"
    }
   },
   "outputs": [],
   "source": [
    "import pandas as pd\n",
    "from scipy.stats import f_oneway\n",
    "\n",
    "# Load & clean\n",
    "df = pd.read_csv('second_Student_Depression_Dataset.csv')\n",
    "df['Depression'] = pd.to_numeric(df['Depression'], errors='coerce')\n",
    "df = df.dropna(subset=['Sleep Duration','Depression'])\n",
    "\n",
    "# Extract groups\n",
    "cats = ['Less than 5 hours','5-6 hours','7-8 hours','More than 8 hours']\n",
    "groups = [ df.loc[df['Sleep Duration']==c, 'Depression'] for c in cats ]\n",
    "\n",
    "# One-way ANOVA\n",
    "F, p = f_oneway(*groups)\n",
    "print(f\"F = {F}, p‑value = {p}\")\n",
    "\n",
    "# Decision:\n",
    "# if p < 0.05: print(\"Reject H₀: not all means are equal\")\n",
    "# else:        print(\"Fail to reject H₀\")"
   ]
  },
  {
   "cell_type": "markdown",
   "id": "5dc68e94",
   "metadata": {},
   "source": [
    "4.3.a\n",
    "\n",
    "for second_student_depression_set.csv\n",
    "\n",
    "4) Association: Family History of Mental Illness vs. Depression (Chi Square)  "
   ]
  },
  {
   "cell_type": "code",
   "execution_count": null,
   "id": "83516156",
   "metadata": {
    "vscode": {
     "languageId": "plaintext"
    }
   },
   "outputs": [],
   "source": [
    "import pandas as pd\n",
    "from scipy.stats import chi2_contingency\n",
    "\n",
    "# 1. Load and clean\n",
    "df = pd.read_csv('second_Student_Depression_Dataset.csv')\n",
    "# Ensure Depression is numeric 0/1\n",
    "df['Depression'] = pd.to_numeric(df['Depression'], errors='coerce')\n",
    "# Drop rows where either variable is missing\n",
    "df = df.dropna(subset=['Family History of Mental Illness', 'Depression'])\n",
    "\n",
    "# 2. Build contingency table\n",
    "cont = pd.crosstab(df['Family History of Mental Illness'], df['Depression'])\n",
    "\n",
    "\n",
    "# 3. Run Chi‑square test of independence\n",
    "chi2_stat, p_val, dof, expected = chi2_contingency(cont)\n",
    "\n",
    "# 4. Output results\n",
    "print(f\"Chi2 statistic = {chi2_stat:.3f}\")\n",
    "print(f\"Exact p-value     = {p_val:.12e}\")\n"
   ]
  },
  {
   "cell_type": "markdown",
   "id": "43604c5d",
   "metadata": {},
   "source": [
    "4.4.a\n",
    "\n",
    "for uni_depression.csv\n",
    "\n",
    "1) Correlation: Estimated CGPA vs. Depression Score (Pearson)"
   ]
  },
  {
   "cell_type": "code",
   "execution_count": null,
   "id": "192958c3",
   "metadata": {
    "vscode": {
     "languageId": "plaintext"
    }
   },
   "outputs": [],
   "source": [
    "import pandas as pd\n",
    "from scipy.stats import pearsonr\n",
    "\n",
    "# Load & map CGPA ranges to numeric mid‑points\n",
    "df = pd.read_csv('uni_depression.csv')\n",
    "mapping = {\n",
    "    'Below 2.50': 2.25,\n",
    "    '2.50 - 2.99': (2.50+2.99)/2,\n",
    "    '3.00 - 3.39': (3.00+3.39)/2,\n",
    "    '3.40 - 3.79': (3.40+3.79)/2,\n",
    "    '3.80 - 4.00': (3.80+4.00)/2\n",
    "}\n",
    "df['cgpa_mid'] = df['6. Current CGPA'].map(mapping)\n",
    "\n",
    "# Clean depression values\n",
    "df['Depression Value'] = pd.to_numeric(df['Depression Value'], errors='coerce')\n",
    "clean = df.dropna(subset=['cgpa_mid','Depression Value'])\n",
    "\n",
    "# Pearson’s r\n",
    "r, p = pearsonr(clean['cgpa_mid'], clean['Depression Value'])\n",
    "print(f\"Pearson r = {r:.3f}, p-value = {p:.3f}\")"
   ]
  },
  {
   "cell_type": "markdown",
   "id": "3d7c8838",
   "metadata": {},
   "source": [
    "4.5.a\n",
    "\n",
    "for uni_depression.csv\n",
    "\n",
    "2) Independent Two Sample t Test: Scholarship vs. No Scholarship"
   ]
  },
  {
   "cell_type": "code",
   "execution_count": null,
   "id": "89322fbe",
   "metadata": {
    "vscode": {
     "languageId": "plaintext"
    }
   },
   "outputs": [],
   "source": [
    "import pandas as pd\n",
    "from scipy.stats import ttest_ind\n",
    "\n",
    "# 1. Load & clean\n",
    "df = pd.read_csv('uni_depression.csv')\n",
    "df['Depression Value'] = pd.to_numeric(df['Depression Value'], errors='coerce')\n",
    "df = df.dropna(subset=['7. Did you receive a waiver or scholarship at your university?', \n",
    "                       'Depression Value'])\n",
    "\n",
    "# 2. Split into two independent samples\n",
    "sch_yes = df.loc[df['7. Did you receive a waiver or scholarship at your university?']=='Yes',\n",
    "                 'Depression Value']\n",
    "sch_no  = df.loc[df['7. Did you receive a waiver or scholarship at your university?']=='No',\n",
    "                 'Depression Value']\n",
    "\n",
    "# 3. Student’s t-test (equal variances assumed)\n",
    "t_stat, p_val = ttest_ind(sch_yes, sch_no, equal_var=True)\n",
    "print(f\"T = {t_stat:.3f}, p-value = {p_val:.3f}\")"
   ]
  }
 ],
 "metadata": {
  "language_info": {
   "name": "python"
  }
 },
 "nbformat": 4,
 "nbformat_minor": 5
}
