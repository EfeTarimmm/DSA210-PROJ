{
 "cells": [
  {
   "cell_type": "markdown",
   "id": "6f4c96c6",
   "metadata": {},
   "source": [
    "for uni_depression.csv\n",
    "1) Histogram of Depression Values:"
   ]
  },
  {
   "cell_type": "code",
   "execution_count": null,
   "id": "3ca07504",
   "metadata": {},
   "outputs": [],
   "source": [
    "import pandas as pd\n",
    "import matplotlib.pyplot as plt\n",
    "\n",
    "# Load data\n",
    "df = pd.read_csv('uni_depression.csv')\n",
    "df = df.dropna(subset=['Depression Value'])\n",
    "\n",
    "# Plot\n",
    "plt.figure()\n",
    "plt.hist(df['Depression Value'], bins=14)\n",
    "plt.xlabel('Depression Value')\n",
    "plt.ylabel('Frequency')\n",
    "plt.title('Histogram of Depression Values')\n",
    "plt.tight_layout()\n",
    "plt.show()"
   ]
  },
  {
   "cell_type": "markdown",
   "id": "e46e962a",
   "metadata": {},
   "source": [
    "for uni_depression.csv\n",
    "\n",
    "2) Violin Plot of Depression by CGPA Range:"
   ]
  },
  {
   "cell_type": "code",
   "execution_count": null,
   "id": "519db79f",
   "metadata": {},
   "outputs": [],
   "source": [
    "import pandas as pd\n",
    "import matplotlib.pyplot as plt\n",
    "\n",
    "# 1. Load & clean\n",
    "df = pd.read_csv('uni_depression.csv')\n",
    "df['Depression Value'] = pd.to_numeric(df['Depression Value'], errors='coerce')\n",
    "df = df.dropna(subset=['6. Current CGPA','Depression Value'])\n",
    "\n",
    "# 2. Define all possible labels\n",
    "all_labels = ['Below 2.50','2.50 - 2.99','3.00 - 3.39','3.40 - 3.79','3.80 - 4.00']\n",
    "\n",
    "# 3. Build groups, but only keep nonempty ones\n",
    "groups = []\n",
    "labels = []\n",
    "for lab in all_labels:\n",
    "    vals = df.loc[df['6. Current CGPA']==lab, 'Depression Value']\n",
    "    if len(vals) > 0:\n",
    "        groups.append(vals)\n",
    "        labels.append(lab)\n",
    "\n",
    "# 4. Plot violin for the nonempty bins\n",
    "plt.figure(figsize=(8,4))\n",
    "parts = plt.violinplot(groups,\n",
    "                       showmeans=True,\n",
    "                       showextrema=False,\n",
    "                       widths=0.7)\n",
    "\n",
    "# make the violins a bit transparent\n",
    "for pc in parts['bodies']:\n",
    "    pc.set_alpha(0.6)\n",
    "\n",
    "plt.xticks(range(1, len(labels)+1), labels, rotation=15)\n",
    "plt.xlabel('CGPA Range')\n",
    "plt.ylabel('Depression Value')\n",
    "plt.title('Depression Score Distribution by CGPA Range\\n(only nonempty bins)')\n",
    "plt.tight_layout()\n",
    "plt.show()"
   ]
  },
  {
   "cell_type": "markdown",
   "id": "9e1642cf",
   "metadata": {},
   "source": [
    "for uni_depression.csv\n",
    "\n",
    "3) Jittered Scatterplot with Linear Fit (Estimated CGPA vs. Depression):"
   ]
  },
  {
   "cell_type": "code",
   "execution_count": null,
   "id": "ad3ce23d",
   "metadata": {},
   "outputs": [],
   "source": [
    "import pandas as pd\n",
    "import numpy as np\n",
    "import matplotlib.pyplot as plt\n",
    "from scipy.stats import linregress\n",
    "\n",
    "# 1. Load & clean\n",
    "df = pd.read_csv('uni_depression.csv')\n",
    "df['Depression Value'] = pd.to_numeric(df['Depression Value'], errors='coerce')\n",
    "df = df.dropna(subset=['6. Current CGPA','Depression Value'])\n",
    "\n",
    "# 2. Map CGPA ranges to midpoints\n",
    "mapping = {\n",
    "    'Below 2.50': 2.25,\n",
    "    '2.50 - 2.99': (2.50+2.99)/2,\n",
    "    '3.00 - 3.39': (3.00+3.39)/2,\n",
    "    '3.40 - 3.79': (3.40+3.79)/2,\n",
    "    '3.80 - 4.00': (3.80+4.00)/2\n",
    "}\n",
    "df['cgpa_mid'] = df['6. Current CGPA'].map(mapping)\n",
    "df = df.dropna(subset=['cgpa_mid'])  # just in case\n",
    "\n",
    "# 3. Extract arrays\n",
    "x = df['cgpa_mid'].values\n",
    "y = df['Depression Value'].values\n",
    "\n",
    "# 4. Make sure we have enough data\n",
    "if len(x) < 2:\n",
    "    raise ValueError(\"Not enough points to fit a line (need >=2), got %d\" % len(x))\n",
    "\n",
    "# 5. Scatter with jitter\n",
    "jitter = np.random.normal(0, 0.05, size=len(x))\n",
    "plt.figure(figsize=(6,4))\n",
    "plt.scatter(x + jitter, y, alpha=0.6, s=20, label='Data (jittered)')\n",
    "\n",
    "# 6. Linear regression via linregress\n",
    "res = linregress(x, y)\n",
    "xs = np.linspace(x.min(), x.max(), 100)\n",
    "plt.plot(xs, res.slope * xs + res.intercept, \n",
    "         color='red', linewidth=2,\n",
    "         label=f'y={res.slope:.2f}x+{res.intercept:.1f}\\nr={res.rvalue:.2f}, p={res.pvalue:.3f}')\n",
    "\n",
    "# 7. Labels & legend\n",
    "plt.xlabel('Estimated CGPA')\n",
    "plt.ylabel('Depression Value')\n",
    "plt.title('Jittered Scatter + Linear Fit')\n",
    "plt.legend(loc='best')\n",
    "plt.tight_layout()\n",
    "plt.show()"
   ]
  },
  {
   "cell_type": "markdown",
   "id": "9acf65fd",
   "metadata": {},
   "source": [
    "for uni_depression.csv\n",
    "\n",
    "4) Boxplot of Depression by Scholarship Status:"
   ]
  },
  {
   "cell_type": "code",
   "execution_count": null,
   "id": "8a17590a",
   "metadata": {},
   "outputs": [],
   "source": [
    "import pandas as pd\n",
    "import matplotlib.pyplot as plt\n",
    "\n",
    "# Load data\n",
    "df = pd.read_csv('uni_depression.csv')\n",
    "df = df.dropna(subset=['7. Did you receive a waiver or scholarship at your university?','Depression Value'])\n",
    "\n",
    "# Prepare groups\n",
    "groups = [\n",
    "    df.loc[df['7. Did you receive a waiver or scholarship at your university?']=='No',  'Depression Value'],\n",
    "    df.loc[df['7. Did you receive a waiver or scholarship at your university?']=='Yes', 'Depression Value']\n",
    "]\n",
    "labels = ['No', 'Yes']\n",
    "\n",
    "# Plot\n",
    "plt.figure()\n",
    "plt.boxplot(groups, labels=labels, showfliers=False)\n",
    "plt.xlabel('Scholarship Status')\n",
    "plt.ylabel('Depression Value')\n",
    "plt.title('Depression by Scholarship Status')\n",
    "plt.tight_layout()\n",
    "plt.show()"
   ]
  },
  {
   "cell_type": "markdown",
   "id": "0831987e",
   "metadata": {},
   "source": [
    "for uni_depression.csv\n",
    "\n",
    "5) Kernel Density Estimate (KDE) of Depression by Scholarship Status:"
   ]
  },
  {
   "cell_type": "code",
   "execution_count": null,
   "id": "a0a84b6f",
   "metadata": {},
   "outputs": [],
   "source": [
    "import pandas as pd\n",
    "import numpy as np\n",
    "import matplotlib.pyplot as plt\n",
    "from scipy.stats import gaussian_kde\n",
    "\n",
    "df = pd.read_csv('uni_depression.csv')\n",
    "df = df.dropna(subset=['7. Did you receive a waiver or scholarship at your university?','Depression Value'])\n",
    "\n",
    "plt.figure()\n",
    "for status, color in zip(['No','Yes'], ['C0','C1']):\n",
    "    data = df.loc[df['7. Did you receive a waiver or scholarship at your university?']==status, 'Depression Value']\n",
    "    kde = gaussian_kde(data)\n",
    "    xs = np.linspace(0, df['Depression Value'].max(), 200)\n",
    "    plt.plot(xs, kde(xs), label=f\"Scholarship = {status}\", color=color)\n",
    "\n",
    "plt.xlabel('Depression Value')\n",
    "plt.ylabel('Density')\n",
    "plt.title('KDE of Depression by Scholarship Status')\n",
    "plt.legend()\n",
    "plt.tight_layout()\n",
    "plt.show()"
   ]
  },
  {
   "cell_type": "markdown",
   "id": "6b79eef9",
   "metadata": {},
   "source": [
    "for uni_depression.csv\n",
    "\n",
    "6) Heatmap of PHQ‑9 Item‑to‑Total Correlations"
   ]
  },
  {
   "cell_type": "code",
   "execution_count": null,
   "id": "9c2addb1",
   "metadata": {},
   "outputs": [],
   "source": [
    "import pandas as pd\n",
    "import numpy as np\n",
    "import matplotlib.pyplot as plt\n",
    "\n",
    "# Load and select columns\n",
    "df = pd.read_csv('uni_depression.csv')\n",
    "# PHQ‑9 item columns are in positions 7 through 15 (0‑indexed)\n",
    "phq9_items = df.columns[7:16].tolist()\n",
    "all_cols = phq9_items + ['Depression Value']\n",
    "\n",
    "# Convert to numeric and drop missing\n",
    "data = df[all_cols].apply(pd.to_numeric, errors='coerce').dropna()\n",
    "\n",
    "# Compute correlation matrix\n",
    "corr = data.corr()\n",
    "\n",
    "# Plot heatmap\n",
    "plt.figure(figsize=(8,6))\n",
    "plt.imshow(corr, cmap='coolwarm', vmin=-1, vmax=1, aspect='auto')\n",
    "plt.colorbar(label='Pearson r')\n",
    "plt.xticks(np.arange(len(corr)), corr.columns, rotation=90)\n",
    "plt.yticks(np.arange(len(corr)), corr.index)\n",
    "plt.title('PHQ‑9 Items & Total Score Correlation')\n",
    "plt.tight_layout()\n",
    "plt.show()"
   ]
  }
 ],
 "metadata": {
  "kernelspec": {
   "display_name": "Python 3",
   "language": "python",
   "name": "python3"
  },
  "language_info": {
   "name": "python",
   "version": "3.13.2"
  }
 },
 "nbformat": 4,
 "nbformat_minor": 5
}
