{
 "cells": [
  {
   "cell_type": "markdown",
   "id": "b702cb52",
   "metadata": {},
   "source": [
    "More Explanations in ApplyingML_Report"
   ]
  },
  {
   "cell_type": "markdown",
   "id": "3732ca69",
   "metadata": {},
   "source": [
    "### Linear Regression:\n",
    "We started with Linear Regression as a baseline model to predict depression scores. It assumes a linear relationship between features and the target variable.\n",
    "- **MSE:** 0.1595  \n",
    "- **R²:** 0.3422\n",
    "\n",
    "This model explained about 34% of the variance in depression scores.\n"
   ]
  },
  {
   "cell_type": "code",
   "execution_count": null,
   "id": "3894eb0e",
   "metadata": {
    "vscode": {
     "languageId": "plaintext"
    }
   },
   "outputs": [],
   "source": [
    "import pandas as pd\n",
    "from sklearn.model_selection import train_test_split\n",
    "from sklearn.linear_model import LinearRegression\n",
    "from sklearn.metrics import mean_squared_error, r2_score\n",
    "import matplotlib.pyplot as plt\n",
    "import seaborn as sns\n",
    "\n",
    "# Load the dataset\n",
    "df = pd.read_csv(\"second_Student_Depression_Dataset.csv\")\n",
    "\n",
    "# Transform 'Sleep Duration' into an ordinal numeric feature\n",
    "sleep_map = {\n",
    "    \"Less than 5 hours\": 1,\n",
    "    \"5-6 hours\": 2,\n",
    "    \"7-8 hours\": 3,\n",
    "    \"More than 8 hours\": 4\n",
    "}\n",
    "df['Sleep_Ordinal'] = df['Sleep Duration'].map(sleep_map)\n",
    "\n",
    "# Select numerical features to be used as predictors\n",
    "features = ['Academic Pressure', 'Work Pressure', 'CGPA',\n",
    "            'Study Satisfaction', 'Job Satisfaction',\n",
    "            'Work/Study Hours', 'Financial Stress',\n",
    "            'Sleep_Ordinal']  # newly transformed feature\n",
    "target = 'Depression'\n",
    "\n",
    "# Remove rows with missing values in the selected columns\n",
    "df_model = df[features + [target]].dropna()\n",
    "\n",
    "# Define independent variables (X) and dependent variable (y)\n",
    "X = df_model[features]\n",
    "y = df_model[target]\n",
    "\n",
    "# Split the data into training and testing sets\n",
    "X_train, X_test, y_train, y_test = train_test_split(X, y, test_size=0.2, random_state=42)\n",
    "\n",
    "# Initialize and train the Linear Regression model\n",
    "model = LinearRegression()\n",
    "model.fit(X_train, y_train)\n",
    "\n",
    "# Make predictions on the test set\n",
    "y_pred = model.predict(X_test)\n",
    "\n",
    "# Evaluate model performance\n",
    "print(\"Mean Squared Error (MSE):\", mean_squared_error(y_test, y_pred))\n",
    "print(\"R-squared (R²):\", r2_score(y_test, y_pred))\n",
    "\n",
    "# Visualize model coefficients\n",
    "coefficients = pd.Series(model.coef_, index=features)\n",
    "plt.figure(figsize=(10,6))\n",
    "sns.barplot(x=coefficients.values, y=coefficients.index)\n",
    "plt.title(\"Linear Regression Coefficients\")\n",
    "plt.xlabel(\"Coefficient Value\")\n",
    "plt.ylabel(\"Feature\")\n",
    "plt.tight_layout()\n",
    "plt.show()"
   ]
  },
  {
   "cell_type": "markdown",
   "id": "4dfcd858",
   "metadata": {},
   "source": [
    "### KNN Regressor:\n",
    "K-Nearest Neighbors was used to test if local similarity among students would provide better predictions.\n",
    "\n",
    "- **MSE:** 0.1851  \n",
    "- **R²:** 0.2369\n",
    "\n",
    "The model performed worse than Linear Regression, indicating that global trends are more important than local ones in this dataset.\n"
   ]
  },
  {
   "cell_type": "code",
   "execution_count": null,
   "id": "a8d9a14a",
   "metadata": {
    "vscode": {
     "languageId": "plaintext"
    }
   },
   "outputs": [],
   "source": [
    "import pandas as pd\n",
    "from sklearn.model_selection import train_test_split\n",
    "from sklearn.neighbors import KNeighborsRegressor\n",
    "from sklearn.metrics import mean_squared_error, r2_score\n",
    "import matplotlib.pyplot as plt\n",
    "\n",
    "# Load the dataset\n",
    "df = pd.read_csv(\"second_Student_Depression_Dataset.csv\")\n",
    "\n",
    "# Transform 'Sleep Duration' into an ordinal numeric feature\n",
    "sleep_map = {\n",
    "    \"Less than 5 hours\": 1,\n",
    "    \"5-6 hours\": 2,\n",
    "    \"7-8 hours\": 3,\n",
    "    \"More than 8 hours\": 4\n",
    "}\n",
    "df['Sleep_Ordinal'] = df['Sleep Duration'].map(sleep_map)\n",
    "\n",
    "# Select numerical features to be used as predictors\n",
    "features = ['Academic Pressure', 'Work Pressure', 'CGPA',\n",
    "            'Study Satisfaction', 'Job Satisfaction',\n",
    "            'Work/Study Hours', 'Financial Stress',\n",
    "            'Sleep_Ordinal']\n",
    "target = 'Depression'\n",
    "\n",
    "# Remove rows with missing values in the selected columns\n",
    "df_model = df[features + [target]].dropna()\n",
    "\n",
    "# Define independent variables (X) and dependent variable (y)\n",
    "X = df_model[features]\n",
    "y = df_model[target]\n",
    "\n",
    "# Split the data into training and testing sets\n",
    "X_train, X_test, y_train, y_test = train_test_split(X, y, test_size=0.2, random_state=42)\n",
    "\n",
    "# Initialize and train the KNN Regressor model\n",
    "model = KNeighborsRegressor(n_neighbors=5)\n",
    "model.fit(X_train, y_train)\n",
    "\n",
    "# Make predictions on the test set\n",
    "y_pred = model.predict(X_test)\n",
    "\n",
    "# Evaluate model performance\n",
    "print(\"KNN Regression - Mean Squared Error (MSE):\", mean_squared_error(y_test, y_pred))\n",
    "print(\"KNN Regression - R-squared (R²):\", r2_score(y_test, y_pred))\n"
   ]
  },
  {
   "cell_type": "markdown",
   "id": "0ad59a61",
   "metadata": {},
   "source": [
    "### Decision Tree Regressor:\n",
    "Decision Tree was initially overfitting. After limiting `max_depth` to 4, performance improved significantly:\n",
    "\n",
    "- **MSE:** 0.1657  \n",
    "- **R²:** 0.317\n",
    "\n",
    "It performed close to Linear Regression and provides rule-based interpretability."
   ]
  },
  {
   "cell_type": "code",
   "execution_count": null,
   "id": "109c8c34",
   "metadata": {
    "vscode": {
     "languageId": "plaintext"
    }
   },
   "outputs": [],
   "source": [
    "import pandas as pd\n",
    "from sklearn.model_selection import train_test_split\n",
    "from sklearn.tree import DecisionTreeRegressor\n",
    "from sklearn.metrics import mean_squared_error, r2_score\n",
    "import matplotlib.pyplot as plt\n",
    "\n",
    "# Load the dataset\n",
    "df = pd.read_csv(\"second_Student_Depression_Dataset.csv\")\n",
    "\n",
    "# Transform 'Sleep Duration' into an ordinal numeric feature\n",
    "sleep_map = {\n",
    "    \"Less than 5 hours\": 1,\n",
    "    \"5-6 hours\": 2,\n",
    "    \"7-8 hours\": 3,\n",
    "    \"More than 8 hours\": 4\n",
    "}\n",
    "df['Sleep_Ordinal'] = df['Sleep Duration'].map(sleep_map)\n",
    "\n",
    "# Select numerical features to be used as predictors\n",
    "features = ['Academic Pressure', 'Work Pressure', 'CGPA',\n",
    "            'Study Satisfaction', 'Job Satisfaction',\n",
    "            'Work/Study Hours', 'Financial Stress',\n",
    "            'Sleep_Ordinal']\n",
    "target = 'Depression'\n",
    "\n",
    "# Remove rows with missing values in the selected columns\n",
    "df_model = df[features + [target]].dropna()\n",
    "\n",
    "# Define independent variables (X) and dependent variable (y)\n",
    "X = df_model[features]\n",
    "y = df_model[target]\n",
    "\n",
    "# Split the data into training and testing sets\n",
    "X_train, X_test, y_train, y_test = train_test_split(X, y, test_size=0.2, random_state=42)\n",
    "\n",
    "# Initialize and train the Decision Tree Regressor model\n",
    "model = DecisionTreeRegressor(max_depth=4, random_state=42)\n",
    "model.fit(X_train, y_train)\n",
    "\n",
    "# Make predictions on the test set\n",
    "y_pred = model.predict(X_test)\n",
    "\n",
    "# Evaluate model performance\n",
    "print(\"Decision Tree Regression - Mean Squared Error (MSE):\", mean_squared_error(y_test, y_pred))\n",
    "print(\"Decision Tree Regression - R-squared (R²):\", r2_score(y_test, y_pred))"
   ]
  }
 ],
 "metadata": {
  "language_info": {
   "name": "python"
  }
 },
 "nbformat": 4,
 "nbformat_minor": 5
}
